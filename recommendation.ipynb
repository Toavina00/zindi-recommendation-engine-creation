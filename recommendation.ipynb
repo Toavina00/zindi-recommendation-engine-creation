{
 "cells": [
  {
   "cell_type": "markdown",
   "id": "b11cc2fd-eaf2-467a-99aa-5b6b5ecd514e",
   "metadata": {
    "id": "b11cc2fd-eaf2-467a-99aa-5b6b5ecd514e"
   },
   "source": [
    "# Zindi Recommendation Engine Creation"
   ]
  },
  {
   "cell_type": "markdown",
   "id": "ea58d0d7-24d1-4660-8ca4-01b22f9ad588",
   "metadata": {
    "id": "ea58d0d7-24d1-4660-8ca4-01b22f9ad588"
   },
   "source": [
    "### Description\r\n",
    "&emsp;\r\n",
    "The project involves developing a comedy content recommendation system for a new online television channel based in Abuja. The system uses customer ratings to predict which comedy shows are most likely to appeal to each viewer. The system aims to optimize the channel's content and provide a personalized experience to viewers.\r\n",
    "<br><br>&emsp;\r\n",
    "The project uses a dataset containing anonymous reviews of different comedy shows held in different regions of Nigeria. Ratings range from -5 to 5, where -5 means the customer didn't like the show at all and 5 means they liked it a lot.\r\n",
    "<br><br>&emsp;\r\n",
    "We aim to predict customer ratings for comedy shows they have not yet seen, based on their ratings for other shows. We will define this problem as a regression problem and therefore, we will build a machine learning model to predict these evaluations.\r\n",
    "<br><br>&emsp;\r\n",
    "To measure the performance of the model, we will use the mean square error as an evaluation measure."
   ]
  },
  {
   "cell_type": "markdown",
   "id": "0e47720d-6171-4489-92f8-b65eb0fb3a50",
   "metadata": {
    "id": "0e47720d-6171-4489-92f8-b65eb0fb3a50"
   },
   "source": [
    "### Importing data"
   ]
  },
  {
   "cell_type": "code",
   "execution_count": 1,
   "id": "c143d732-5eb3-427a-a79e-ad31a35c7f44",
   "metadata": {
    "id": "c143d732-5eb3-427a-a79e-ad31a35c7f44"
   },
   "outputs": [],
   "source": [
    "import numpy as np\n",
    "import pandas as pd\n",
    "import matplotlib.pyplot as plt\n",
    "import seaborn as sns\n",
    "\n",
    "import warnings\n",
    "warnings.simplefilter(\"ignore\")\n",
    "\n",
    "sns.set_style(\"whitegrid\")"
   ]
  },
  {
   "cell_type": "code",
   "execution_count": 2,
   "id": "8bbfbe0f-2f82-4b49-8e5f-6ee05cc305e3",
   "metadata": {
    "id": "8bbfbe0f-2f82-4b49-8e5f-6ee05cc305e3"
   },
   "outputs": [],
   "source": [
    "train = pd.read_csv(\"train.csv\")\n",
    "test = pd.read_csv(\"test.csv\")"
   ]
  },
  {
   "cell_type": "markdown",
   "id": "c93e1235-6b92-4ec7-ba44-9ae176ab0fd4",
   "metadata": {
    "id": "c93e1235-6b92-4ec7-ba44-9ae176ab0fd4"
   },
   "source": [
    "## Exploratory Data Analysis"
   ]
  },
  {
   "cell_type": "code",
   "execution_count": null,
   "id": "d5399744-bee0-4ed6-a8e9-448718325589",
   "metadata": {
    "id": "d5399744-bee0-4ed6-a8e9-448718325589"
   },
   "outputs": [],
   "source": [
    "df = train.copy()"
   ]
  },
  {
   "cell_type": "code",
   "execution_count": null,
   "id": "369c2859-5a8f-46f7-be67-715e5daa2061",
   "metadata": {
    "id": "369c2859-5a8f-46f7-be67-715e5daa2061",
    "outputId": "4caf8a35-af46-499d-d05c-88ddbc2e7e46"
   },
   "outputs": [
    {
     "data": {
      "text/plain": [
       "(612702, 4)"
      ]
     },
     "execution_count": 5,
     "metadata": {},
     "output_type": "execute_result"
    }
   ],
   "source": [
    "df.shape"
   ]
  },
  {
   "cell_type": "markdown",
   "id": "abfc09f3-8767-4a5e-8ae9-61934485613a",
   "metadata": {
    "id": "abfc09f3-8767-4a5e-8ae9-61934485613a"
   },
   "source": [
    "Our dataframe contains 612702 observations and 4 columns."
   ]
  },
  {
   "cell_type": "code",
   "execution_count": null,
   "id": "767db97f-29e5-419b-af37-ee83bde5d4c1",
   "metadata": {
    "id": "767db97f-29e5-419b-af37-ee83bde5d4c1",
    "outputId": "16638038-6adb-4514-c33d-2d9a6dfcec5c"
   },
   "outputs": [
    {
     "data": {
      "text/html": [
       "<div>\n",
       "<style scoped>\n",
       "    .dataframe tbody tr th:only-of-type {\n",
       "        vertical-align: middle;\n",
       "    }\n",
       "\n",
       "    .dataframe tbody tr th {\n",
       "        vertical-align: top;\n",
       "    }\n",
       "\n",
       "    .dataframe thead th {\n",
       "        text-align: right;\n",
       "    }\n",
       "</style>\n",
       "<table border=\"1\" class=\"dataframe\">\n",
       "  <thead>\n",
       "    <tr style=\"text-align: right;\">\n",
       "      <th></th>\n",
       "      <th>Viewers_ID</th>\n",
       "      <th>Joke_identifier</th>\n",
       "      <th>Response_ID</th>\n",
       "      <th>Rating</th>\n",
       "    </tr>\n",
       "  </thead>\n",
       "  <tbody>\n",
       "    <tr>\n",
       "      <th>0</th>\n",
       "      <td>A1</td>\n",
       "      <td>Klint De Drunk Enugu 1</td>\n",
       "      <td>A1_Klint De Drunk Enugu 1</td>\n",
       "      <td>0.11</td>\n",
       "    </tr>\n",
       "    <tr>\n",
       "      <th>1</th>\n",
       "      <td>A1</td>\n",
       "      <td>Klint De Drunk Enugu 2</td>\n",
       "      <td>A1_Klint De Drunk Enugu 2</td>\n",
       "      <td>-4.64</td>\n",
       "    </tr>\n",
       "    <tr>\n",
       "      <th>2</th>\n",
       "      <td>A1</td>\n",
       "      <td>Klint De Drunk PH 1</td>\n",
       "      <td>A1_Klint De Drunk PH 1</td>\n",
       "      <td>-3.39</td>\n",
       "    </tr>\n",
       "    <tr>\n",
       "      <th>3</th>\n",
       "      <td>A1</td>\n",
       "      <td>Klint De Drunk PH 2</td>\n",
       "      <td>A1_Klint De Drunk PH 2</td>\n",
       "      <td>0.44</td>\n",
       "    </tr>\n",
       "    <tr>\n",
       "      <th>4</th>\n",
       "      <td>A1</td>\n",
       "      <td>Klint De Drunk Lagos 1</td>\n",
       "      <td>A1_Klint De Drunk Lagos 1</td>\n",
       "      <td>-4.83</td>\n",
       "    </tr>\n",
       "  </tbody>\n",
       "</table>\n",
       "</div>"
      ],
      "text/plain": [
       "  Viewers_ID         Joke_identifier                Response_ID  Rating\n",
       "0         A1  Klint De Drunk Enugu 1  A1_Klint De Drunk Enugu 1    0.11\n",
       "1         A1  Klint De Drunk Enugu 2  A1_Klint De Drunk Enugu 2   -4.64\n",
       "2         A1     Klint De Drunk PH 1     A1_Klint De Drunk PH 1   -3.39\n",
       "3         A1     Klint De Drunk PH 2     A1_Klint De Drunk PH 2    0.44\n",
       "4         A1  Klint De Drunk Lagos 1  A1_Klint De Drunk Lagos 1   -4.83"
      ]
     },
     "execution_count": 6,
     "metadata": {},
     "output_type": "execute_result"
    }
   ],
   "source": [
    "df.head()"
   ]
  },
  {
   "cell_type": "markdown",
   "id": "bbc73505-6e28-45b5-a753-c2a19daa1f15",
   "metadata": {
    "id": "bbc73505-6e28-45b5-a753-c2a19daa1f15"
   },
   "source": [
    "Above, we have an overview of the contents of the dataframe."
   ]
  },
  {
   "cell_type": "code",
   "execution_count": null,
   "id": "e5458810-80c6-4489-8c02-8c00bcb54321",
   "metadata": {
    "id": "e5458810-80c6-4489-8c02-8c00bcb54321",
    "outputId": "98a22718-8bdb-4f26-eea8-68dcfb82b50a"
   },
   "outputs": [
    {
     "data": {
      "text/plain": [
       "Viewers_ID         0\n",
       "Joke_identifier    0\n",
       "Response_ID        0\n",
       "Rating             0\n",
       "dtype: int64"
      ]
     },
     "execution_count": 15,
     "metadata": {},
     "output_type": "execute_result"
    }
   ],
   "source": [
    "df.isna().sum()"
   ]
  },
  {
   "cell_type": "markdown",
   "id": "0ef65484-a17b-48b8-965d-b920de50e73b",
   "metadata": {
    "id": "0ef65484-a17b-48b8-965d-b920de50e73b"
   },
   "source": [
    "The dataframe does not contain any missing values."
   ]
  },
  {
   "cell_type": "code",
   "execution_count": null,
   "id": "e9a6d4bb-0253-4f8b-9cd3-fd4300f104ff",
   "metadata": {
    "id": "e9a6d4bb-0253-4f8b-9cd3-fd4300f104ff",
    "outputId": "c631d096-281f-4aee-f32d-f406dde8a9b0"
   },
   "outputs": [
    {
     "data": {
      "text/plain": [
       "object     3\n",
       "float64    1\n",
       "dtype: int64"
      ]
     },
     "execution_count": 8,
     "metadata": {},
     "output_type": "execute_result"
    }
   ],
   "source": [
    "df.dtypes.value_counts()"
   ]
  },
  {
   "cell_type": "markdown",
   "id": "d454f355-12f6-4021-a4a9-85c61fcb2078",
   "metadata": {
    "id": "d454f355-12f6-4021-a4a9-85c61fcb2078"
   },
   "source": [
    "The dataframe contains 3 variables containing texts and 1 variable with real values."
   ]
  },
  {
   "cell_type": "markdown",
   "id": "5558b6ab-ea8b-4061-be7f-6f469332642e",
   "metadata": {
    "id": "5558b6ab-ea8b-4061-be7f-6f469332642e"
   },
   "source": [
    "> We are mainly interested in the variable *Rating* which is the variable to be predicted."
   ]
  },
  {
   "cell_type": "code",
   "execution_count": null,
   "id": "8b2a3717-e940-4b47-b15d-0b548111e4cd",
   "metadata": {
    "id": "8b2a3717-e940-4b47-b15d-0b548111e4cd",
    "outputId": "1877cf45-832b-4287-ff52-9d0ba1fcb2ab"
   },
   "outputs": [
    {
     "data": {
      "text/plain": [
       "count    612702.000000\n",
       "mean          0.647024\n",
       "std           2.667301\n",
       "min          -5.000000\n",
       "25%          -1.300000\n",
       "50%           0.950000\n",
       "75%           2.690000\n",
       "max           5.000000\n",
       "Name: Rating, dtype: float64"
      ]
     },
     "execution_count": 11,
     "metadata": {},
     "output_type": "execute_result"
    }
   ],
   "source": [
    "df.Rating.describe()"
   ]
  },
  {
   "cell_type": "markdown",
   "id": "9152a0e2-676a-444b-bab3-9e2bcf8c941a",
   "metadata": {
    "id": "9152a0e2-676a-444b-bab3-9e2bcf8c941a"
   },
   "source": [
    "Above, we observe the statistics of the *Rating* variable."
   ]
  },
  {
   "cell_type": "code",
   "execution_count": null,
   "id": "1852e357-4ed0-489b-a45d-2b14c9bef3ba",
   "metadata": {
    "id": "1852e357-4ed0-489b-a45d-2b14c9bef3ba",
    "outputId": "0f91bf39-e23f-4775-a7b7-c2c5de8bb632"
   },
   "outputs": [
    {
     "data": {
      "image/png": "[encoded data removed]",
      "text/plain": [
       "<Figure size 640x480 with 1 Axes>"
      ]
     },
     "metadata": {},
     "output_type": "display_data"
    }
   ],
   "source": [
    "df.Rating.plot.hist();"
   ]
  },
  {
   "cell_type": "markdown",
   "id": "ece9c844-0eab-484a-a5ae-c3bb12505809",
   "metadata": {
    "id": "ece9c844-0eab-484a-a5ae-c3bb12505809"
   },
   "source": [
    "Above, we can see the distribution of the *Rating* variable. We can see that the distribution tends slightly towards positive values."
   ]
  },
  {
   "cell_type": "markdown",
   "id": "2dbf7cab-08b5-4e97-88b0-a7151b5ef381",
   "metadata": {
    "id": "2dbf7cab-08b5-4e97-88b0-a7151b5ef381"
   },
   "source": [
    "Now let's take a look at the other variables."
   ]
  },
  {
   "cell_type": "code",
   "execution_count": null,
   "id": "0b145723-ea0c-4234-a2a3-ea35c7df17fe",
   "metadata": {
    "id": "0b145723-ea0c-4234-a2a3-ea35c7df17fe",
    "outputId": "e4cdf207-df0b-4482-ca9e-0483cdf911b4"
   },
   "outputs": [
    {
     "data": {
      "text/html": [
       "<div>\n",
       "<style scoped>\n",
       "    .dataframe tbody tr th:only-of-type {\n",
       "        vertical-align: middle;\n",
       "    }\n",
       "\n",
       "    .dataframe tbody tr th {\n",
       "        vertical-align: top;\n",
       "    }\n",
       "\n",
       "    .dataframe thead th {\n",
       "        text-align: right;\n",
       "    }\n",
       "</style>\n",
       "<table border=\"1\" class=\"dataframe\">\n",
       "  <thead>\n",
       "    <tr style=\"text-align: right;\">\n",
       "      <th></th>\n",
       "      <th>Viewers_ID</th>\n",
       "      <th>Joke_identifier</th>\n",
       "      <th>Response_ID</th>\n",
       "    </tr>\n",
       "  </thead>\n",
       "  <tbody>\n",
       "    <tr>\n",
       "      <th>count</th>\n",
       "      <td>612702</td>\n",
       "      <td>612702</td>\n",
       "      <td>612702</td>\n",
       "    </tr>\n",
       "    <tr>\n",
       "      <th>unique</th>\n",
       "      <td>40863</td>\n",
       "      <td>127</td>\n",
       "      <td>612702</td>\n",
       "    </tr>\n",
       "    <tr>\n",
       "      <th>top</th>\n",
       "      <td>A366</td>\n",
       "      <td>Klint De Drunk PH 2</td>\n",
       "      <td>A1_Klint De Drunk Enugu 1</td>\n",
       "    </tr>\n",
       "    <tr>\n",
       "      <th>freq</th>\n",
       "      <td>54</td>\n",
       "      <td>26311</td>\n",
       "      <td>1</td>\n",
       "    </tr>\n",
       "  </tbody>\n",
       "</table>\n",
       "</div>"
      ],
      "text/plain": [
       "       Viewers_ID      Joke_identifier                Response_ID\n",
       "count      612702               612702                     612702\n",
       "unique      40863                  127                     612702\n",
       "top          A366  Klint De Drunk PH 2  A1_Klint De Drunk Enugu 1\n",
       "freq           54                26311                          1"
      ]
     },
     "execution_count": 14,
     "metadata": {},
     "output_type": "execute_result"
    }
   ],
   "source": [
    "df.select_dtypes(\"O\").describe()"
   ]
  },
  {
   "cell_type": "markdown",
   "id": "08f63032-26a6-4c40-a439-6639476df0e0",
   "metadata": {
    "id": "08f63032-26a6-4c40-a439-6639476df0e0"
   },
   "source": [
    "Our data contains the opinions of 40863 spectators on 127 shows.  The *Response_ID* variable identifies the observation."
   ]
  },
  {
   "cell_type": "code",
   "execution_count": null,
   "id": "cf2dbc82-a488-4ba9-ab6f-1fc4097d8eaa",
   "metadata": {
    "id": "cf2dbc82-a488-4ba9-ab6f-1fc4097d8eaa"
   },
   "outputs": [],
   "source": [
    "rating_per_viewers = df[[\"Viewers_ID\", \"Rating\"]].groupby(\"Viewers_ID\").mean()\n",
    "count_per_viewers = df[[\"Viewers_ID\", \"Rating\"]].groupby(\"Viewers_ID\").count()\n",
    "rating_per_viewers.columns = [\"Mean Rating\"]\n",
    "count_per_viewers.columns = [\"Count Rating\"]\n",
    "viewers_rating = rating_per_viewers.join(count_per_viewers)"
   ]
  },
  {
   "cell_type": "code",
   "execution_count": null,
   "id": "74ba425b-985f-47e5-ae36-3d9aedba6852",
   "metadata": {
    "id": "74ba425b-985f-47e5-ae36-3d9aedba6852",
    "outputId": "017d644f-8749-49e2-f48e-b1dc1dcebf81"
   },
   "outputs": [
    {
     "data": {
      "text/html": [
       "<div>\n",
       "<style scoped>\n",
       "    .dataframe tbody tr th:only-of-type {\n",
       "        vertical-align: middle;\n",
       "    }\n",
       "\n",
       "    .dataframe tbody tr th {\n",
       "        vertical-align: top;\n",
       "    }\n",
       "\n",
       "    .dataframe thead th {\n",
       "        text-align: right;\n",
       "    }\n",
       "</style>\n",
       "<table border=\"1\" class=\"dataframe\">\n",
       "  <thead>\n",
       "    <tr style=\"text-align: right;\">\n",
       "      <th></th>\n",
       "      <th>Mean Rating</th>\n",
       "      <th>Count Rating</th>\n",
       "    </tr>\n",
       "  </thead>\n",
       "  <tbody>\n",
       "    <tr>\n",
       "      <th>count</th>\n",
       "      <td>40863.000000</td>\n",
       "      <td>40863.000000</td>\n",
       "    </tr>\n",
       "    <tr>\n",
       "      <th>mean</th>\n",
       "      <td>0.310305</td>\n",
       "      <td>14.994053</td>\n",
       "    </tr>\n",
       "    <tr>\n",
       "      <th>std</th>\n",
       "      <td>1.661257</td>\n",
       "      <td>13.251594</td>\n",
       "    </tr>\n",
       "    <tr>\n",
       "      <th>min</th>\n",
       "      <td>-5.000000</td>\n",
       "      <td>2.000000</td>\n",
       "    </tr>\n",
       "    <tr>\n",
       "      <th>25%</th>\n",
       "      <td>-0.623333</td>\n",
       "      <td>6.000000</td>\n",
       "    </tr>\n",
       "    <tr>\n",
       "      <th>50%</th>\n",
       "      <td>0.394286</td>\n",
       "      <td>10.000000</td>\n",
       "    </tr>\n",
       "    <tr>\n",
       "      <th>75%</th>\n",
       "      <td>1.345000</td>\n",
       "      <td>19.000000</td>\n",
       "    </tr>\n",
       "    <tr>\n",
       "      <th>max</th>\n",
       "      <td>5.000000</td>\n",
       "      <td>54.000000</td>\n",
       "    </tr>\n",
       "  </tbody>\n",
       "</table>\n",
       "</div>"
      ],
      "text/plain": [
       "        Mean Rating  Count Rating\n",
       "count  40863.000000  40863.000000\n",
       "mean       0.310305     14.994053\n",
       "std        1.661257     13.251594\n",
       "min       -5.000000      2.000000\n",
       "25%       -0.623333      6.000000\n",
       "50%        0.394286     10.000000\n",
       "75%        1.345000     19.000000\n",
       "max        5.000000     54.000000"
      ]
     },
     "execution_count": 53,
     "metadata": {},
     "output_type": "execute_result"
    }
   ],
   "source": [
    "viewers_rating.describe()"
   ]
  },
  {
   "cell_type": "markdown",
   "id": "23a9a919-6c69-44d9-a0bd-f579d30b3f07",
   "metadata": {
    "id": "23a9a919-6c69-44d9-a0bd-f579d30b3f07"
   },
   "source": [
    "We grouped the observations by spectators and we can observe the statistics above. Some viewers only give the lowest rating and others only give the highest rating and every viewer rated at least 2 shows."
   ]
  },
  {
   "cell_type": "code",
   "execution_count": null,
   "id": "bd3ff941-9994-4bc9-84b3-97e7fce1dfd3",
   "metadata": {
    "id": "bd3ff941-9994-4bc9-84b3-97e7fce1dfd3",
    "outputId": "283c9f47-b8da-4930-9aad-253682d06e31"
   },
   "outputs": [
    {
     "data": {
      "image/png": "[encoded data removed]",
      "text/plain": [
       "<Figure size 640x480 with 2 Axes>"
      ]
     },
     "metadata": {},
     "output_type": "display_data"
    }
   ],
   "source": [
    "plt.subplots_adjust(wspace=0.5)\n",
    "\n",
    "plt.subplot(1, 2, 1)\n",
    "sns.histplot(data=viewers_rating, x=\"Mean Rating\")\n",
    "\n",
    "plt.subplot(1, 2, 2)\n",
    "sns.histplot(data=viewers_rating, x=\"Count Rating\")\n",
    "\n",
    "plt.show()"
   ]
  },
  {
   "cell_type": "markdown",
   "id": "9e4094ed-36ca-4ebf-a33b-8538762637dc",
   "metadata": {
    "id": "9e4094ed-36ca-4ebf-a33b-8538762637dc"
   },
   "source": [
    "Above, we observe the distributions of average ratings per viewer and the number of reviews per viewer. We notice that the distribution of average ratings per spectator is quite symmetrical, while that of the number of opinions per spectator tends towards the right."
   ]
  },
  {
   "cell_type": "code",
   "execution_count": null,
   "id": "e47e96b9-2731-4ea5-9fdb-55b3b38feadf",
   "metadata": {
    "id": "e47e96b9-2731-4ea5-9fdb-55b3b38feadf",
    "outputId": "26d02e1c-6425-4ac6-c41a-a60c41f7e185"
   },
   "outputs": [
    {
     "data": {
      "image/png": "[encoded data removed]",
      "text/plain": [
       "<Figure size 640x480 with 2 Axes>"
      ]
     },
     "metadata": {},
     "output_type": "display_data"
    }
   ],
   "source": [
    "plt.subplots_adjust(wspace=0.5)\n",
    "\n",
    "plt.subplot(1, 2, 1)\n",
    "sns.boxplot(data=viewers_rating, y=\"Mean Rating\")\n",
    "\n",
    "plt.subplot(1, 2, 2)\n",
    "sns.boxplot(data=viewers_rating, y=\"Count Rating\")\n",
    "\n",
    "plt.show()"
   ]
  },
  {
   "cell_type": "markdown",
   "id": "601f9b5c-ac42-4c4a-bdd7-6068121e372f",
   "metadata": {
    "id": "601f9b5c-ac42-4c4a-bdd7-6068121e372f"
   },
   "source": [
    "Box plots allow us to highlight outliers. The outlier values in the *Mean Rating* variable represent spectators who mostly gave only very bad ratings or only very good ratings. Outliers in the *Count Rating* variable represent very active viewers on the platform."
   ]
  },
  {
   "cell_type": "code",
   "execution_count": null,
   "id": "50a5fea8-3f9e-421b-9067-bcce19c2e691",
   "metadata": {
    "id": "50a5fea8-3f9e-421b-9067-bcce19c2e691"
   },
   "outputs": [],
   "source": [
    "rating_per_show = df[[\"Joke_identifier\", \"Rating\"]].groupby(\"Joke_identifier\").mean()\n",
    "count_per_show = df[[\"Joke_identifier\", \"Rating\"]].groupby(\"Joke_identifier\").count()\n",
    "rating_per_show.columns = [\"Mean Rating\"]\n",
    "count_per_show.columns = [\"Count Rating\"]\n",
    "show_rating = rating_per_show.join(count_per_show)"
   ]
  },
  {
   "cell_type": "code",
   "execution_count": null,
   "id": "71e35af7-c5d8-4a30-bee2-eef46ea22adc",
   "metadata": {
    "id": "71e35af7-c5d8-4a30-bee2-eef46ea22adc",
    "outputId": "0f69bbb1-d48f-4e78-cab1-832bc2c575da"
   },
   "outputs": [
    {
     "data": {
      "text/html": [
       "<div>\n",
       "<style scoped>\n",
       "    .dataframe tbody tr th:only-of-type {\n",
       "        vertical-align: middle;\n",
       "    }\n",
       "\n",
       "    .dataframe tbody tr th {\n",
       "        vertical-align: top;\n",
       "    }\n",
       "\n",
       "    .dataframe thead th {\n",
       "        text-align: right;\n",
       "    }\n",
       "</style>\n",
       "<table border=\"1\" class=\"dataframe\">\n",
       "  <thead>\n",
       "    <tr style=\"text-align: right;\">\n",
       "      <th></th>\n",
       "      <th>Mean Rating</th>\n",
       "      <th>Count Rating</th>\n",
       "    </tr>\n",
       "  </thead>\n",
       "  <tbody>\n",
       "    <tr>\n",
       "      <th>count</th>\n",
       "      <td>127.000000</td>\n",
       "      <td>127.000000</td>\n",
       "    </tr>\n",
       "    <tr>\n",
       "      <th>mean</th>\n",
       "      <td>0.692021</td>\n",
       "      <td>4824.425197</td>\n",
       "    </tr>\n",
       "    <tr>\n",
       "      <th>std</th>\n",
       "      <td>1.005727</td>\n",
       "      <td>6200.496560</td>\n",
       "    </tr>\n",
       "    <tr>\n",
       "      <th>min</th>\n",
       "      <td>-3.190000</td>\n",
       "      <td>1.000000</td>\n",
       "    </tr>\n",
       "    <tr>\n",
       "      <th>25%</th>\n",
       "      <td>0.145222</td>\n",
       "      <td>197.500000</td>\n",
       "    </tr>\n",
       "    <tr>\n",
       "      <th>50%</th>\n",
       "      <td>0.914000</td>\n",
       "      <td>3319.000000</td>\n",
       "    </tr>\n",
       "    <tr>\n",
       "      <th>75%</th>\n",
       "      <td>1.435673</td>\n",
       "      <td>5924.500000</td>\n",
       "    </tr>\n",
       "    <tr>\n",
       "      <th>max</th>\n",
       "      <td>2.776667</td>\n",
       "      <td>26311.000000</td>\n",
       "    </tr>\n",
       "  </tbody>\n",
       "</table>\n",
       "</div>"
      ],
      "text/plain": [
       "       Mean Rating  Count Rating\n",
       "count   127.000000    127.000000\n",
       "mean      0.692021   4824.425197\n",
       "std       1.005727   6200.496560\n",
       "min      -3.190000      1.000000\n",
       "25%       0.145222    197.500000\n",
       "50%       0.914000   3319.000000\n",
       "75%       1.435673   5924.500000\n",
       "max       2.776667  26311.000000"
      ]
     },
     "execution_count": 51,
     "metadata": {},
     "output_type": "execute_result"
    }
   ],
   "source": [
    "show_rating.describe()"
   ]
  },
  {
   "cell_type": "markdown",
   "id": "cf613b65-2ef4-4192-be3b-bbed90d0b468",
   "metadata": {
    "id": "cf613b65-2ef4-4192-be3b-bbed90d0b468"
   },
   "source": [
    "By grouping the observations by show, we observe the statistics above. It can be seen that some shows are very popular, while others are only rated once. We can also see that the average ratings per show vary between -3.19 and 2.78."
   ]
  },
  {
   "cell_type": "code",
   "execution_count": null,
   "id": "97b9708c-0cea-40e9-a926-4aac78674f0c",
   "metadata": {
    "id": "97b9708c-0cea-40e9-a926-4aac78674f0c",
    "outputId": "4a677812-b87e-436f-ee0e-c4387b7e084a"
   },
   "outputs": [
    {
     "data": {
      "image/png": "[encoded data removed]",
      "text/plain": [
       "<Figure size 640x480 with 2 Axes>"
      ]
     },
     "metadata": {},
     "output_type": "display_data"
    }
   ],
   "source": [
    "plt.subplots_adjust(wspace=0.5)\n",
    "\n",
    "plt.subplot(1, 2, 1)\n",
    "sns.histplot(data=show_rating, x=\"Mean Rating\")\n",
    "\n",
    "plt.subplot(1, 2, 2)\n",
    "sns.histplot(data=show_rating, x=\"Count Rating\")\n",
    "\n",
    "plt.show()"
   ]
  },
  {
   "cell_type": "markdown",
   "id": "3421492b-9284-45bc-8ad3-baf23a2b87b3",
   "metadata": {
    "id": "3421492b-9284-45bc-8ad3-baf23a2b87b3"
   },
   "source": [
    "Above, we observe the distributions of average ratings per show and the number of reviews per show. We note that the distribution of average ratings per show is slightly skewed to the left, while that of the number of reviews per show is skewed to the right."
   ]
  },
  {
   "cell_type": "code",
   "execution_count": null,
   "id": "e4bc07ff-3ba7-4653-88b2-9e6a42bc4341",
   "metadata": {
    "id": "e4bc07ff-3ba7-4653-88b2-9e6a42bc4341",
    "outputId": "873ce4ad-b821-45b3-c3b0-187380793ef9"
   },
   "outputs": [
    {
     "data": {
      "image/png": "[encoded data removed]",
      "text/plain": [
       "<Figure size 640x480 with 2 Axes>"
      ]
     },
     "metadata": {},
     "output_type": "display_data"
    }
   ],
   "source": [
    "plt.subplots_adjust(wspace=0.5)\n",
    "\n",
    "plt.subplot(1, 2, 1)\n",
    "sns.boxplot(data=show_rating, y=\"Mean Rating\")\n",
    "\n",
    "plt.subplot(1, 2, 2)\n",
    "sns.boxplot(data=show_rating, y=\"Count Rating\")\n",
    "\n",
    "plt.show()"
   ]
  },
  {
   "cell_type": "markdown",
   "id": "b80a677a-9828-4ee7-be78-5c295972eecf",
   "metadata": {
    "id": "b80a677a-9828-4ee7-be78-5c295972eecf"
   },
   "source": [
    "Box plots allow us to highlight outliers. Outliers in the *Mean Rating* variable represent shows with significantly worse ratings than others. Outliers in the *Count Rating* variable represent very popular shows."
   ]
  },
  {
   "cell_type": "markdown",
   "id": "9852cd16-8b9b-486f-bedc-9b26e8872f86",
   "metadata": {
    "id": "9852cd16-8b9b-486f-bedc-9b26e8872f86"
   },
   "source": [
    "## Model"
   ]
  },
  {
   "cell_type": "markdown",
   "id": "e9cb5f58-07c9-4b09-bca0-5dd8ea3318d6",
   "metadata": {},
   "source": [
    "We will now try out several models for prediction.\r\n",
    "> The models we obtain will then be testedusing the test set given byn Zindi"
   ]
  },
  {
   "cell_type": "code",
   "execution_count": 3,
   "id": "570104df-ed63-4f29-9190-a97275e251bc",
   "metadata": {
    "id": "570104df-ed63-4f29-9190-a97275e251bc"
   },
   "outputs": [],
   "source": [
    "from sklearn.metrics import mean_squared_error, make_scorer\n",
    "from sklearn.pipeline import make_pipeline\n",
    "from sklearn.compose import make_column_transformer\n",
    "from sklearn.model_selection import train_test_split, cross_val_score, KFold, GridSearchCV\n",
    "from sklearn.linear_model import LinearRegression, Ridge\n",
    "from sklearn.ensemble import RandomForestRegressor, GradientBoostingRegressor, AdaBoostRegressor\n",
    "from sklearn.preprocessing import TargetEncoder\n",
    "from sklearn.base import BaseEstimator, TransformerMixin"
   ]
  },
  {
   "cell_type": "code",
   "execution_count": 4,
   "id": "bd7c3126-e142-46a3-8619-2af54070ff13",
   "metadata": {
    "id": "bd7c3126-e142-46a3-8619-2af54070ff13"
   },
   "outputs": [],
   "source": [
    "feat_col = [\"Viewers_ID\", \"Joke_identifier\"]\n",
    "\n",
    "X_Train = train.drop(columns=[\"Rating\"])\n",
    "y_Train = train.Rating"
   ]
  },
  {
   "cell_type": "code",
   "execution_count": 5,
   "id": "e7b5f641-fe82-43c0-ba41-a3bfbb20a252",
   "metadata": {
    "id": "e7b5f641-fe82-43c0-ba41-a3bfbb20a252"
   },
   "outputs": [],
   "source": [
    "encoder = TargetEncoder()\n",
    "encoder.fit(X_Train[feat_col], y_Train)\n",
    "\n",
    "class CustomTransformer(BaseEstimator, TransformerMixin):\n",
    "\n",
    "    def fit(self, X, y=None):\n",
    "        return self\n",
    "\n",
    "    def transform(self, X, y=None):\n",
    "        return encoder.transform(X)"
   ]
  },
  {
   "cell_type": "code",
   "execution_count": 6,
   "id": "6e3dde4d-7209-4e74-b0fd-9b6dddcfb8e4",
   "metadata": {
    "id": "6e3dde4d-7209-4e74-b0fd-9b6dddcfb8e4"
   },
   "outputs": [],
   "source": [
    "preprocess = make_column_transformer(\n",
    "    (CustomTransformer(), feat_col),\n",
    ")"
   ]
  },
  {
   "cell_type": "markdown",
   "id": "ed01440b-f087-417c-a147-28ce1fdffef3",
   "metadata": {
    "id": "ed01440b-f087-417c-a147-28ce1fdffef3"
   },
   "source": [
    "#### Linear Regression"
   ]
  },
  {
   "cell_type": "code",
   "execution_count": null,
   "id": "0073d5fb-24ef-4ab4-af11-65c09d722523",
   "metadata": {
    "id": "0073d5fb-24ef-4ab4-af11-65c09d722523",
    "outputId": "82f98d3b-9296-47a3-c6ef-ab3490787159"
   },
   "outputs": [
    {
     "name": "stdout",
     "output_type": "stream",
     "text": [
      "Linear Regression MSE: 4.22272897262117\n"
     ]
    }
   ],
   "source": [
    "model = make_pipeline(\n",
    "    preprocess,\n",
    "    LinearRegression()\n",
    ")\n",
    "\n",
    "score = cross_val_score(\n",
    "    estimator=model,\n",
    "    X=X_Train,\n",
    "    y=y_Train,\n",
    "    scoring=make_scorer(mean_squared_error, greater_is_better=False),\n",
    ").mean()\n",
    "\n",
    "print(\"Linear Regression MSE:\", -score)"
   ]
  },
  {
   "cell_type": "markdown",
   "id": "4c4fc05a-0ff3-4ffb-9912-f79124f42d5a",
   "metadata": {
    "id": "4c4fc05a-0ff3-4ffb-9912-f79124f42d5a"
   },
   "source": [
    "#### Ridge Regression"
   ]
  },
  {
   "cell_type": "code",
   "execution_count": null,
   "id": "1542e0dc-84d2-46d4-9ef0-1803a845db73",
   "metadata": {
    "id": "1542e0dc-84d2-46d4-9ef0-1803a845db73",
    "outputId": "197eaac6-2bc1-4110-c056-6bdad6c51fb9"
   },
   "outputs": [
    {
     "name": "stdout",
     "output_type": "stream",
     "text": [
      "Ridge({'ridge__alpha': 4.9}) MSE: 4.22272896297701\n"
     ]
    }
   ],
   "source": [
    "model = make_pipeline(\n",
    "    preprocess,\n",
    "    Ridge()\n",
    ")\n",
    "\n",
    "alphas = {\"ridge__alpha\": np.arange(0.1, 5.0, 0.1)}\n",
    "\n",
    "grid_search = GridSearchCV(\n",
    "    estimator=model,\n",
    "    param_grid=alphas,\n",
    "    scoring=make_scorer(mean_squared_error, greater_is_better=False),\n",
    "    n_jobs=-1\n",
    ")\n",
    "\n",
    "grid_search.fit(X_Train, y_Train)\n",
    "print(f\"Ridge({grid_search.best_params_}) MSE:\", -grid_search.best_score_)"
   ]
  },
  {
   "cell_type": "markdown",
   "id": "97a12a74-a51b-43f1-9770-85ef33509af4",
   "metadata": {
    "id": "97a12a74-a51b-43f1-9770-85ef33509af4"
   },
   "source": [
    "#### Random Forest Regressor"
   ]
  },
  {
   "cell_type": "code",
   "execution_count": 7,
   "id": "9dd97afe-b9a8-4924-af14-3c19e5913c20",
   "metadata": {
    "colab": {
     "base_uri": "https://localhost:8080/"
    },
    "id": "9dd97afe-b9a8-4924-af14-3c19e5913c20",
    "outputId": "6b333ded-2cec-43b4-93ab-dc7bcbac317c"
   },
   "outputs": [
    {
     "name": "stdout",
     "output_type": "stream",
     "text": [
      "Random Forest({'max_depth': 10, 'n_estimators': 200}) MSE: 4.174232542537084\n"
     ]
    }
   ],
   "source": [
    "X_Trans = preprocess.fit_transform(X_Train)\n",
    "\n",
    "model = RandomForestRegressor(random_state=42)\n",
    "\n",
    "params = {\n",
    "    \"n_estimators\": [50, 100, 150, 200],\n",
    "    \"max_depth\": [5, 10, 15],\n",
    "}\n",
    "\n",
    "\n",
    "grid_search = GridSearchCV(\n",
    "    model,\n",
    "    params,\n",
    "    n_jobs=-1,\n",
    "    scoring=make_scorer(mean_squared_error,greater_is_better=False)\n",
    ")\n",
    "\n",
    "grid_search.fit(X_Trans, y_Train)\n",
    "print(f\"Random Forest({grid_search.best_params_}) MSE:\", -grid_search.best_score_)"
   ]
  },
  {
   "cell_type": "markdown",
   "id": "3dd74570-7460-4ba7-bb26-6ab01ae22883",
   "metadata": {
    "id": "3dd74570-7460-4ba7-bb26-6ab01ae22883"
   },
   "source": [
    "#### AdaBoost Regressor"
   ]
  },
  {
   "cell_type": "code",
   "execution_count": 9,
   "id": "9dbac7c4-245e-44a0-8d16-8b5ebcb197d0",
   "metadata": {
    "colab": {
     "base_uri": "https://localhost:8080/"
    },
    "id": "9dbac7c4-245e-44a0-8d16-8b5ebcb197d0",
    "outputId": "64d4a8b5-668d-4564-8c34-b0b5d19d5029"
   },
   "outputs": [
    {
     "name": "stdout",
     "output_type": "stream",
     "text": [
      "AdaBoost({'n_estimators': 25}) MSE: 4.803505598996879\n"
     ]
    }
   ],
   "source": [
    "X_Trans = preprocess.fit_transform(X_Train)\n",
    "\n",
    "model = AdaBoostRegressor(random_state=42)\n",
    "\n",
    "params = {\n",
    "    \"n_estimators\": [25, 50, 75],\n",
    "}\n",
    "\n",
    "\n",
    "grid_search = GridSearchCV(\n",
    "    model,\n",
    "    params,\n",
    "    n_jobs=-1,\n",
    "    scoring = make_scorer(mean_squared_error,greater_is_better=False)\n",
    ")\n",
    "\n",
    "grid_search.fit(X_Trans, y_Train)\n",
    "print(f\"AdaBoost({grid_search.best_params_}) MSE:\", -grid_search.best_score_)"
   ]
  },
  {
   "cell_type": "code",
   "execution_count": null,
   "id": "a713498e-7aa1-41a7-8dcb-4d31ee4183aa",
   "metadata": {
    "id": "a713498e-7aa1-41a7-8dcb-4d31ee4183aa"
   },
   "outputs": [],
   "source": []
  }
 ],
 "metadata": {
  "colab": {
   "provenance": []
  },
  "kernelspec": {
   "display_name": "Python 3 (ipykernel)",
   "language": "python",
   "name": "python3"
  },
  "language_info": {
   "codemirror_mode": {
    "name": "ipython",
    "version": 3
   },
   "file_extension": ".py",
   "mimetype": "text/x-python",
   "name": "python",
   "nbconvert_exporter": "python",
   "pygments_lexer": "ipython3",
   "version": "3.11.7"
  }
 },
 "nbformat": 4,
 "nbformat_minor": 5
}
